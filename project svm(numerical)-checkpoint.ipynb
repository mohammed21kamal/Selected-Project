{
 "cells": [
  {
   "cell_type": "code",
   "execution_count": 1,
   "id": "e5be736f",
   "metadata": {},
   "outputs": [
    {
     "name": "stdout",
     "output_type": "stream",
     "text": [
      "     Serial No.  GRE Score  TOEFL Score  University Rating  SOP  LOR   CGPA  \\\n",
      "0             1        337          118                  4  4.5   4.5  9.65   \n",
      "1             2        324          107                  4  4.0   4.5  8.87   \n",
      "2             3        316          104                  3  3.0   3.5  8.00   \n",
      "3             4        322          110                  3  3.5   2.5  8.67   \n",
      "4             5        314          103                  2  2.0   3.0  8.21   \n",
      "..          ...        ...          ...                ...  ...   ...   ...   \n",
      "395         396        324          110                  3  3.5   3.5  9.04   \n",
      "396         397        325          107                  3  3.0   3.5  9.11   \n",
      "397         398        330          116                  4  5.0   4.5  9.45   \n",
      "398         399        312          103                  3  3.5   4.0  8.78   \n",
      "399         400        333          117                  4  5.0   4.0  9.66   \n",
      "\n",
      "     Research  \n",
      "0           1  \n",
      "1           1  \n",
      "2           1  \n",
      "3           1  \n",
      "4           0  \n",
      "..        ...  \n",
      "395         1  \n",
      "396         1  \n",
      "397         1  \n",
      "398         0  \n",
      "399         1  \n",
      "\n",
      "[400 rows x 8 columns]\n",
      "0      1\n",
      "1      1\n",
      "2      1\n",
      "3      1\n",
      "4      0\n",
      "      ..\n",
      "395    1\n",
      "396    1\n",
      "397    1\n",
      "398    0\n",
      "399    1\n",
      "Name: Research, Length: 400, dtype: int64\n",
      "----------------------------------------------------\n"
     ]
    }
   ],
   "source": [
    "# Importing the libraries\n",
    "import matplotlib.pyplot as plt\n",
    "import pandas as pd\n",
    "\n",
    "# Importing the dataset\n",
    "dataset = pd.read_csv('C:\\\\Users\\Lenovo\\OneDrive\\Desktop\\\\adm_data.csv')\n",
    "X = dataset.iloc[:,:-1]\n",
    "y = dataset.iloc[:, -2]\n",
    "print(X)\n",
    "print(y)\n",
    "print('----------------------------------------------------')"
   ]
  },
  {
   "cell_type": "code",
   "execution_count": 2,
   "id": "81efdd7c",
   "metadata": {},
   "outputs": [
    {
     "name": "stdout",
     "output_type": "stream",
     "text": [
      "x train:  (300, 8)\n",
      "x test:  (100, 8)\n",
      "y train:  (300,)\n",
      "y test:  (100,)\n"
     ]
    }
   ],
   "source": [
    "# Splitting the dataset into the Training set and Test set\n",
    "from sklearn.model_selection import train_test_split\n",
    "X_train, X_test, y_train, y_test = train_test_split(X, y, test_size = 0.25, random_state = 4, shuffle =True)\n",
    "\n",
    "print(\"x train: \",X_train.shape)\n",
    "print(\"x test: \",X_test.shape)\n",
    "print(\"y train: \",y_train.shape)\n",
    "print(\"y test: \",y_test.shape)\n",
    "\n",
    "# print(X_train)\n",
    "# print(X_test)\n",
    "# print(y_train)\n",
    "# print(y_test)\n",
    "\n"
   ]
  },
  {
   "cell_type": "code",
   "execution_count": 3,
   "id": "d1d8ed45",
   "metadata": {},
   "outputs": [
    {
     "name": "stdout",
     "output_type": "stream",
     "text": [
      "X_train Scaling [[-1.22745513 -0.62697677 -1.18220155 ... -0.43147334 -0.77563241\n",
      "  -1.1055416 ]\n",
      " [-0.43326516  0.41030097  0.79454047 ...  1.79070697  0.82360967\n",
      "   0.90453403]\n",
      " [-1.64181511  1.01537966  0.79454047 ...  1.23516189  0.89024476\n",
      "   0.90453403]\n",
      " ...\n",
      " [-0.04480267 -0.54053696 -0.19383054 ... -0.98701842 -0.39248066\n",
      "  -1.1055416 ]\n",
      " [-0.24335017  0.41030097  0.62981197 ...  0.67961681  0.67368073\n",
      "   0.90453403]\n",
      " [-0.69224015 -0.54053696 -0.19383054 ... -0.98701842 -0.34250435\n",
      "  -1.1055416 ]]\n",
      "X_test Scaling [[-0.15702517 -0.02189809 -0.19383054 -0.92222165 -0.83492831  0.67961681\n",
      "  -0.40913943 -1.1055416 ]\n",
      " [-1.69361011  0.41030097  0.30035497 -0.03547006 -0.34475513  0.67961681\n",
      "  -0.60904469  0.90453403]\n",
      " [-1.21882263 -0.79985639 -1.01747305 -0.03547006  0.63559122 -0.43147334\n",
      "  -0.60904469 -1.1055416 ]\n",
      " [ 0.94793479 -0.45409715 -0.02910204  0.85128152  1.1257644   1.23516189\n",
      "   0.72365704  0.90453403]\n",
      " [-0.88215514  0.49674079 -0.02910204 -0.03547006  0.14541804  0.12407173\n",
      "  -0.17591663  0.90453403]\n",
      " [ 0.6198998  -0.1083379  -1.18220155 -1.80897323 -1.32510149 -0.98701842\n",
      "  -1.02551398 -1.1055416 ]\n",
      " [ 1.42272227 -0.45409715 -1.51165855 -1.80897323 -2.30544784 -0.98701842\n",
      "  -1.8417938  -1.1055416 ]\n",
      " [ 1.01699479  0.06454173 -0.19383054 -0.03547006  0.63559122  0.12407173\n",
      "  -0.10928154  0.90453403]\n",
      " [ 0.7666523  -1.40493508 -0.85274454 -0.92222165 -1.81527466 -1.5425635\n",
      "  -1.15878416 -1.1055416 ]\n",
      " [ 1.10331978  0.92893985  0.95926898 -0.03547006  0.14541804 -0.43147334\n",
      "   0.1572588   0.90453403]\n",
      " [ 0.33502731  0.06454173 -0.68801604 -0.92222165 -0.83492831 -1.5425635\n",
      "  -0.69233855 -1.1055416 ]\n",
      " [-1.33967762  1.96621759  1.94763999  1.7380331   1.1257644   0.67961681\n",
      "   1.88977106 -1.1055416 ]\n",
      " [-1.14113013  1.36113891  1.78291148  1.7380331   1.61593757  1.79070697\n",
      "   1.78981843  0.90453403]\n",
      " [ 1.06015728  0.84250004  1.45345448 -0.03547006  0.14541804  0.67961681\n",
      "   0.95687984  0.90453403]\n",
      " [-0.67497515 -1.31849527 -0.19383054  0.85128152 -0.83492831 -0.43147334\n",
      "  -0.15925786 -1.1055416 ]\n",
      " [-0.25198267  0.5831806   0.95926898  0.85128152  0.63559122  1.23516189\n",
      "   1.10680879  0.90453403]\n",
      " [-1.65044761  0.92893985  0.62981197  0.85128152  0.63559122  1.23516189\n",
      "   0.72365704  0.90453403]\n",
      " [-0.95121514 -1.5778147  -1.51165855 -0.92222165  0.63559122 -0.43147334\n",
      "  -0.89224381 -1.1055416 ]\n",
      " [-1.27061763  0.32386116 -0.68801604 -0.03547006 -0.34475513 -0.43147334\n",
      "  -1.44198328 -1.1055416 ]\n",
      " [-1.17566013  0.92893985  1.12399748 -0.03547006 -0.34475513 -0.43147334\n",
      "   0.75697458 -1.1055416 ]\n",
      " [ 1.14648228  0.75606022  0.62981197  0.85128152  0.63559122  1.23516189\n",
      "   0.90690353  0.90453403]\n",
      " [-0.55412015  0.84250004  1.45345448 -0.92222165  1.1257644  -0.43147334\n",
      "   0.85692721  0.90453403]\n",
      " [-1.62455011 -0.45409715 -0.52328754 -0.03547006  0.14541804 -1.5425635\n",
      "  -0.60904469  0.90453403]\n",
      " [ 0.48177981  0.84250004 -0.85274454  0.85128152  1.61593757  1.79070697\n",
      "   0.32384652  0.90453403]\n",
      " [ 0.46451481 -0.62697677 -1.34693005 -0.03547006  0.63559122  0.67961681\n",
      "  -0.00932891 -1.1055416 ]\n",
      " [ 0.38682231 -0.45409715 -0.52328754 -0.92222165 -0.83492831  0.12407173\n",
      "  -0.14259909 -1.1055416 ]\n",
      " [-0.48506016 -0.1083379  -0.35855904 -0.03547006 -1.32510149 -0.98701842\n",
      "  -0.14259909 -1.1055416 ]\n",
      " [ 0.22280482  0.15098154  0.79454047 -0.03547006  0.63559122  0.12407173\n",
      "   0.17391758 -1.1055416 ]\n",
      " [-1.12386513  0.41030097  0.62981197  1.7380331   1.61593757  1.79070697\n",
      "   1.47330177  0.90453403]\n",
      " [-0.30377766 -0.28121752 -0.85274454 -0.03547006 -1.32510149 -0.43147334\n",
      "  -0.49243329 -1.1055416 ]\n",
      " [ 1.65579976  1.10181947  0.62981197  0.85128152  1.1257644   0.67961681\n",
      "   1.10680879  0.90453403]\n",
      " [-1.53822512  1.70689816  1.94763999  1.7380331   0.63559122  0.12407173\n",
      "   2.05635877  0.90453403]\n",
      " [-0.59728265  0.5831806   0.79454047  1.7380331   0.63559122  1.23516189\n",
      "   0.35716406 -1.1055416 ]\n",
      " [-1.05480513 -0.36765733 -0.35855904 -0.03547006 -1.32510149 -0.43147334\n",
      "  -0.90890258  0.90453403]\n",
      " [ 0.02425732 -1.83713414 -1.34693005 -0.92222165 -0.83492831 -0.43147334\n",
      "  -1.52527713 -1.1055416 ]\n",
      " [-0.70950515  1.62045834  1.61818298  1.7380331   1.61593757  1.79070697\n",
      "   1.65654825  0.90453403]\n",
      " [ 1.32776477  0.92893985  0.30035497 -0.03547006  0.14541804  0.67961681\n",
      "   0.34050529  0.90453403]\n",
      " [-0.19155517 -1.40493508 -0.52328754 -0.03547006  0.14541804 -0.43147334\n",
      "  -0.67567978 -1.1055416 ]\n",
      " [-1.02890763  0.49674079  1.28872598  1.7380331   0.63559122  1.23516189\n",
      "   1.32337282  0.90453403]\n",
      " [-1.63318261 -0.79985639  0.30035497 -0.03547006  0.63559122 -0.43147334\n",
      "  -0.94222013  0.90453403]\n",
      " [ 0.20553982 -0.88629621  0.46508347 -0.92222165  0.14541804  0.67961681\n",
      "  -0.1925754  -1.1055416 ]\n",
      " [-0.63181265  1.44757872  1.78291148  1.7380331   1.61593757  1.79070697\n",
      "   1.30671405  0.90453403]\n",
      " [-1.03754013  0.32386116  0.46508347  1.7380331   1.61593757  1.23516189\n",
      "   1.09015002  0.90453403]\n",
      " [-0.58865015  1.44757872  0.95926898  1.7380331   0.63559122  0.67961681\n",
      "   1.19010265  0.90453403]\n",
      " [-1.52959262  2.05265741  2.11236849  1.7380331   1.1257644   1.23516189\n",
      "   1.72318334  0.90453403]\n",
      " [ 0.5767373  -0.71341658  0.13562647  0.85128152  1.1257644   1.79070697\n",
      "  -0.37582189 -1.1055416 ]\n",
      " [-0.08796517  0.49674079  1.12399748  1.7380331   1.1257644   0.67961681\n",
      "   0.62370441  0.90453403]\n",
      " [ 0.5594723  -0.19477771 -0.02910204 -0.03547006 -0.34475513  0.12407173\n",
      "  -0.65902101  0.90453403]\n",
      " [ 0.28323231  0.84250004  0.62981197  1.7380331   1.1257644   0.67961681\n",
      "   1.10680879  0.90453403]\n",
      " [ 1.39682477 -0.28121752 -0.85274454 -0.03547006  0.14541804  0.67961681\n",
      "   0.55706932  0.90453403]\n",
      " [ 0.99109729 -1.40493508 -1.34693005 -1.80897323 -2.30544784 -0.98701842\n",
      "  -0.92556135 -1.1055416 ]\n",
      " [-0.26061516  0.49674079  0.46508347  0.85128152  0.63559122  1.79070697\n",
      "   0.94022107  0.90453403]\n",
      " [-0.41600016  0.84250004  0.13562647 -0.03547006 -0.34475513  0.12407173\n",
      "   0.54041055 -1.1055416 ]\n",
      " [-1.19292513  0.75606022  0.62981197 -0.03547006 -0.34475513  0.12407173\n",
      "   0.22389389 -1.1055416 ]\n",
      " [ 0.5853698  -0.88629621 -0.35855904 -0.92222165 -0.83492831 -0.43147334\n",
      "  -0.57572715  0.90453403]\n",
      " [-0.91668514 -0.88629621 -1.18220155 -0.92222165 -0.34475513 -0.43147334\n",
      "  -0.94222013 -1.1055416 ]\n",
      " [ 1.27596978  0.15098154 -0.02910204 -0.03547006 -0.34475513  0.12407173\n",
      "  -0.49243329  0.90453403]\n",
      " [-1.02027514  2.05265741  1.28872598  1.7380331   1.1257644   1.23516189\n",
      "   1.47330177  0.90453403]\n",
      " [ 0.96519979 -0.97273602 -0.35855904 -0.92222165 -0.34475513  0.67961681\n",
      "  -0.72565609 -1.1055416 ]\n",
      " [ 0.44724981  0.41030097  1.12399748  0.85128152  0.63559122  1.79070697\n",
      "   0.9235623  -1.1055416 ]\n",
      " [ 1.56947476  2.05265741  0.95926898  0.85128152  1.61593757  1.79070697\n",
      "   1.95640614  0.90453403]\n",
      " [ 1.68169726  1.18825928  1.45345448  0.85128152  1.61593757  1.23516189\n",
      "   1.47330177  0.90453403]\n",
      " [-0.28651266 -0.45409715 -1.34693005 -0.92222165 -0.83492831 -0.43147334\n",
      "  -0.97553767 -1.1055416 ]\n",
      " [ 0.09331732  1.44757872  1.94763999  1.7380331   1.61593757  1.23516189\n",
      "   2.02304123  0.90453403]\n",
      " [-1.45190012  1.2746991   0.79454047  1.7380331   0.63559122  1.79070697\n",
      "   2.05635877  0.90453403]\n",
      " [ 1.43135477 -1.5778147  -2.50002956 -1.80897323 -1.32510149 -1.5425635\n",
      "  -1.14212539 -1.1055416 ]\n",
      " [-1.15839513  0.15098154  0.30035497 -0.03547006  0.14541804  0.67961681\n",
      "   1.09015002  0.90453403]\n",
      " [-0.54548765  0.15098154  0.30035497 -1.80897323  0.14541804  0.12407173\n",
      "   0.9235623  -1.1055416 ]\n",
      " [ 1.50041477 -1.66425452 -1.84111556 -0.92222165 -0.83492831 -1.5425635\n",
      "  -1.89177011 -1.1055416 ]\n",
      " [ 1.58673976 -1.23205546 -1.01747305 -0.92222165 -0.83492831  0.12407173\n",
      "  -1.00885521 -1.1055416 ]\n",
      " [-0.31241016 -1.23205546 -0.85274454 -0.03547006  0.14541804  1.79070697\n",
      "  -0.39248066 -1.1055416 ]\n",
      " [ 0.83571229 -0.97273602  0.79454047 -0.03547006 -0.34475513  0.12407173\n",
      "   0.14060003 -1.1055416 ]\n",
      " [ 0.87887479 -0.28121752 -0.19383054 -0.92222165 -0.83492831 -1.5425635\n",
      "  -0.22589294 -1.1055416 ]\n",
      " [ 0.86160979  0.49674079 -0.35855904 -0.92222165 -0.34475513 -0.43147334\n",
      "  -0.1925754   0.90453403]\n",
      " [ 0.07605232  1.01537966  0.46508347  0.85128152  1.61593757  0.67961681\n",
      "   0.95687984  0.90453403]\n",
      " [-0.68360765 -0.71341658  0.13562647 -0.03547006  0.14541804  0.12407173\n",
      "  -0.57572715 -1.1055416 ]\n",
      " [ 0.36092481 -0.19477771 -0.02910204 -0.92222165 -0.83492831  0.67961681\n",
      "  -0.00932891 -1.1055416 ]\n",
      " [-0.07933267  1.70689816  1.78291148  1.7380331   1.1257644   1.79070697\n",
      "   1.60657194  0.90453403]\n",
      " [ 0.19690732 -1.75069433 -1.34693005 -0.92222165 -0.83492831 -0.98701842\n",
      "  -0.89224381 -1.1055416 ]\n",
      " [ 0.26596731 -1.05917583 -1.18220155 -0.92222165 -0.83492831  0.12407173\n",
      "  -0.82560872 -1.1055416 ]\n",
      " [-0.42463266  0.66962041 -0.35855904 -0.03547006 -0.34475513  0.67961681\n",
      "   0.30718775 -1.1055416 ]\n",
      " [-1.38284012 -0.28121752 -0.02910204 -0.92222165 -0.83492831 -1.5425635\n",
      "  -0.10928154  0.90453403]\n",
      " [ 1.18101228  0.66962041 -0.02910204  1.7380331   0.14541804  0.67961681\n",
      "   0.1572588   0.90453403]\n",
      " [-0.64044515  0.84250004  0.79454047 -0.03547006  0.14541804 -0.43147334\n",
      "   0.89024476  0.90453403]\n",
      " [-0.86489014 -0.19477771 -0.19383054 -0.92222165  0.63559122  0.12407173\n",
      "  -0.52575083 -1.1055416 ]\n",
      " [-0.51959015  1.2746991   1.28872598  1.7380331   0.63559122  0.12407173\n",
      "   1.45664299  0.90453403]\n",
      " [ 1.19827728  0.84250004  0.46508347 -0.03547006  0.14541804  0.12407173\n",
      "   0.32384652  0.90453403]\n",
      " [-1.59002011  0.15098154  0.46508347 -0.03547006  0.63559122 -0.43147334\n",
      "   0.39048161 -1.1055416 ]\n",
      " [ 0.23143732  0.66962041  0.62981197  0.85128152 -0.34475513 -0.43147334\n",
      "   0.74031581  0.90453403]\n",
      " [ 0.80118229  0.06454173 -1.18220155 -0.92222165 -0.34475513 -0.98701842\n",
      "   0.00732986 -1.1055416 ]\n",
      " [ 0.03288982 -0.1083379  -1.34693005 -0.92222165  0.14541804 -0.43147334\n",
      "  -1.12546661 -1.1055416 ]\n",
      " [-1.37420762  1.36113891  1.61818298  0.85128152  1.1257644   0.67961681\n",
      "   0.89024476 -1.1055416 ]\n",
      " [-1.73677261  0.66962041 -0.02910204  0.85128152  0.63559122  1.23516189\n",
      "   0.50709301  0.90453403]\n",
      " [-0.85625764  0.06454173 -0.52328754 -0.92222165  1.1257644   0.67961681\n",
      "  -0.15925786 -1.1055416 ]\n",
      " [-0.83036014  1.10181947  0.62981197  0.85128152  1.1257644   1.23516189\n",
      "   1.02351493  0.90453403]\n",
      " [ 1.63853476  0.84250004  0.79454047  0.85128152  0.63559122  0.12407173\n",
      "   0.9235623   0.90453403]\n",
      " [-1.20155763 -0.1083379  -0.02910204 -0.92222165  0.63559122 -0.43147334\n",
      "  -0.10928154  0.90453403]\n",
      " [-0.83899264 -0.02189809  0.46508347 -0.03547006  0.63559122  1.23516189\n",
      "   0.35716406  0.90453403]\n",
      " [ 0.99972979  0.66962041  0.62981197 -0.03547006 -0.83492831 -1.5425635\n",
      "   0.39048161  0.90453403]\n",
      " [ 0.7321223   0.66962041  1.12399748  1.7380331   1.61593757  1.23516189\n",
      "   0.85692721  0.90453403]]\n"
     ]
    }
   ],
   "source": [
    "# Feature Scaling\n",
    "from sklearn.preprocessing import StandardScaler\n",
    "sc = StandardScaler()\n",
    "X_train = sc.fit_transform(X_train)\n",
    "X_test = sc.transform(X_test)\n",
    "\n",
    "print('X_train Scaling',X_train)\n",
    "print('X_test Scaling',X_test)"
   ]
  },
  {
   "cell_type": "code",
   "execution_count": 21,
   "id": "88a82c9f",
   "metadata": {},
   "outputs": [
    {
     "name": "stdout",
     "output_type": "stream",
     "text": [
      "----------------------------------------------------\n",
      "SVCModel Train Score is :  0.9766666666666667\n",
      "SVCModel Test Score is :  0.99\n",
      "SVCModel Classes are :  [0 1]\n",
      "----------------------------------------------------\n"
     ]
    }
   ],
   "source": [
    "# Fitting SVM to the Training set\n",
    "from sklearn.svm import SVC\n",
    "SVCModel = SVC(kernel= 'sigmoid',# it can be also linear,poly,sigmoid,precomputed,\n",
    "                max_iter=100,\n",
    "               C=1.0,gamma='auto')\n",
    "history = SVCModel.fit(X_train, y_train )\n",
    "y_pred_svm =SVCModel.decision_function(X_test)\n",
    "\n",
    "print('----------------------------------------------------')\n",
    "\n",
    "print('SVCModel Train Score is : ' , SVCModel.score(X_train, y_train))\n",
    "print('SVCModel Test Score is : ' , SVCModel.score(X_test, y_test))\n",
    "print('SVCModel Classes are : ' , SVCModel.classes_)\n",
    "print('----------------------------------------------------')\n"
   ]
  },
  {
   "cell_type": "code",
   "execution_count": 22,
   "id": "e30cc0fc",
   "metadata": {},
   "outputs": [
    {
     "name": "stdout",
     "output_type": "stream",
     "text": [
      "Predicted Value for SVCModel is :  [0, 1, 0, 1, 1, 0, 0, 1, 0, 1]\n",
      "True Value for  is :  [0, 1, 0, 1, 1, 0, 0, 1, 0, 1]\n",
      "----------------------------------------------------\n"
     ]
    }
   ],
   "source": [
    "# Predicting the Test set results\n",
    "y_pred = SVCModel.predict(X_test)\n",
    "print('Predicted Value for SVCModel is : ' ,list(y_pred[:10]))\n",
    "\n",
    "print('True Value for  is : ' ,list(y_test[:10]))\n",
    "print('----------------------------------------------------')\n",
    "\n"
   ]
  },
  {
   "cell_type": "code",
   "execution_count": 23,
   "id": "14e1e160",
   "metadata": {},
   "outputs": [
    {
     "name": "stdout",
     "output_type": "stream",
     "text": [
      "Confusion Matrix is : \n",
      " [[45  1]\n",
      " [ 0 54]]\n",
      "----------------------------------------------------\n"
     ]
    }
   ],
   "source": [
    "# Making the Confusion Matrix\n",
    "from sklearn.metrics import confusion_matrix\n",
    "cm = confusion_matrix(y_test, y_pred)\n",
    "print('Confusion Matrix is : \\n', cm)\n",
    "print('----------------------------------------------------')\n"
   ]
  },
  {
   "cell_type": "code",
   "execution_count": 11,
   "id": "6820d961",
   "metadata": {},
   "outputs": [
    {
     "data": {
      "text/plain": [
       "<AxesSubplot:>"
      ]
     },
     "execution_count": 11,
     "metadata": {},
     "output_type": "execute_result"
    },
    {
     "data": {
      "image/png": "[encoded data removed]",
      "text/plain": [
       "<Figure size 800x500 with 2 Axes>"
      ]
     },
     "metadata": {},
     "output_type": "display_data"
    }
   ],
   "source": [
    "from sklearn.metrics import confusion_matrix\n",
    "import seaborn as sn\n",
    "cm=confusion_matrix(y_test,y_pred)\n",
    "conf_matrix=pd.DataFrame(data=cm,columns=['Predicted:0','Predicted:1'],index=['Actual:0','Actual:1'])\n",
    "plt.figure(figsize = (8,5))\n",
    "sn.heatmap(conf_matrix, annot=True,fmt='d',cmap=\"YlGnBu\")"
   ]
  },
  {
   "cell_type": "code",
   "execution_count": 12,
   "id": "3ac6c961",
   "metadata": {},
   "outputs": [
    {
     "name": "stdout",
     "output_type": "stream",
     "text": [
      "Accuracy Score is :  99\n",
      "----------------------------------------------------\n"
     ]
    }
   ],
   "source": [
    "#Calculating Accuracy Score  : ((TP + TN) / float(TP + TN + FP + FN))\n",
    "from sklearn.metrics import accuracy_score\n",
    "AccScore = accuracy_score(y_test, y_pred, normalize=False)\n",
    "print('Accuracy Score is : ', AccScore)\n",
    "print('----------------------------------------------------')\n"
   ]
  },
  {
   "cell_type": "code",
   "execution_count": 13,
   "id": "04e51ceb",
   "metadata": {},
   "outputs": [
    {
     "name": "stdout",
     "output_type": "stream",
     "text": [
      "fpr Value  :  [0.         0.02173913 1.        ]\n",
      "tpr Value  :  [0. 1. 1.]\n",
      "thresholds Value  :  [2 1 0]\n",
      "----------------------------------------------------\n"
     ]
    }
   ],
   "source": [
    "#Calculating Receiver Operating Characteristic :  \n",
    "#roc_curve(y_true, y_score, pos_label=None, sample_weight=None,drop_intermediate=True)\n",
    "from sklearn.metrics import roc_curve\n",
    "fprValue, tprValue, thresholdsValue = roc_curve(y_test,y_pred)\n",
    "print('fpr Value  : ', fprValue)\n",
    "print('tpr Value  : ', tprValue)\n",
    "print('thresholds Value  : ', thresholdsValue)\n",
    "print('----------------------------------------------------')\n"
   ]
  },
  {
   "cell_type": "code",
   "execution_count": 14,
   "id": "598a6164",
   "metadata": {},
   "outputs": [
    {
     "data": {
      "image/png": "[encoded data removed]",
      "text/plain": [
       "<Figure size 600x400 with 1 Axes>"
      ]
     },
     "metadata": {},
     "output_type": "display_data"
    }
   ],
   "source": [
    "plt.figure(figsize=(6,4))\n",
    "\n",
    "plt.plot(fprValue, tprValue, linewidth=2)\n",
    "\n",
    "plt.plot([0,1], [0,1], 'k--' )\n",
    "\n",
    "plt.rcParams['font.size'] = 12\n",
    "\n",
    "plt.title('ROC curve for RainTomorrow classifier')\n",
    "\n",
    "plt.xlabel('False Positive Rate (1 - Specificity)')\n",
    "\n",
    "plt.ylabel('True Positive Rate (Sensitivity)')\n",
    "\n",
    "plt.show()\n"
   ]
  },
  {
   "cell_type": "code",
   "execution_count": 15,
   "id": "60b528d7",
   "metadata": {},
   "outputs": [
    {
     "name": "stdout",
     "output_type": "stream",
     "text": [
      "Zero One Loss Value :  1\n",
      "----------------------------------------------------\n"
     ]
    }
   ],
   "source": [
    "#Calculating Zero One Loss:  \n",
    "#zero_one_loss(y_true, y_pred, normalize = True, sample_weight = None)\n",
    "\n",
    "from sklearn.metrics import zero_one_loss\n",
    "ZeroOneLossValue = zero_one_loss(y_test,y_pred,normalize=False) \n",
    "print('Zero One Loss Value : ', ZeroOneLossValue )\n",
    "\n",
    "print('----------------------------------------------------')\n"
   ]
  },
  {
   "cell_type": "code",
   "execution_count": 16,
   "id": "70ee6c02",
   "metadata": {},
   "outputs": [
    {
     "name": "stdout",
     "output_type": "stream",
     "text": [
      "ROC AUC Score :  0.9891304347826088\n"
     ]
    }
   ],
   "source": [
    "from sklearn.metrics import roc_auc_score\n",
    "#----------------------------------------------------\n",
    "#Calculating ROC AUC Score:  \n",
    "#roc_auc_score(y_true, y_score, average=’macro’, sample_weight=None,max_fpr=None)\n",
    "\n",
    "ROCAUCScore = roc_auc_score(y_test,y_pred, average='micro') #it can be : macro,weighted,samples\n",
    "print('ROC AUC Score : ', ROCAUCScore)"
   ]
  },
  {
   "cell_type": "code",
   "execution_count": 17,
   "id": "c58a1604",
   "metadata": {},
   "outputs": [
    {
     "name": "stdout",
     "output_type": "stream",
     "text": [
      "Precision Score (Specificity) is :  0.99\n"
     ]
    }
   ],
   "source": [
    "from sklearn.metrics import precision_score\n",
    "#----------------------------------------------------\n",
    "\n",
    "#Calculating Precision Score : (Specificity) #(TP / float(TP + FP))  \n",
    "# precision_score(y_true, y_pred, labels=None, pos_label=1, average=’binary’,sample_weight=None)\n",
    "\n",
    "PrecisionScore = precision_score(y_test, y_pred, average='micro') #it can be : binary,macro,weighted,samples\n",
    "print('Precision Score (Specificity) is : ', PrecisionScore)"
   ]
  },
  {
   "cell_type": "code",
   "execution_count": 18,
   "id": "b8274242",
   "metadata": {},
   "outputs": [
    {
     "name": "stdout",
     "output_type": "stream",
     "text": [
      "Recall Score(Sensitivity) is :  0.99\n"
     ]
    }
   ],
   "source": [
    "from sklearn.metrics import recall_score\n",
    "#----------------------------------------------------\n",
    "\n",
    "\n",
    "#Calculating Recall Score : (Sensitivity) (TP / float(TP + FN))   1 / 1+2  \n",
    "# recall_score(y_true, y_pred, labels=None, pos_label=1, average=’binary’, sample_weight=None)\n",
    "\n",
    "RecallScore = recall_score(y_test, y_pred, average='micro') #it can be : binary,macro,weighted,samples\n",
    "print('Recall Score(Sensitivity) is : ', RecallScore)"
   ]
  },
  {
   "cell_type": "code",
   "execution_count": 19,
   "id": "04822756",
   "metadata": {},
   "outputs": [
    {
     "name": "stdout",
     "output_type": "stream",
     "text": [
      "F1 Score is :  0.99\n"
     ]
    }
   ],
   "source": [
    "from sklearn.metrics import f1_score\n",
    "#----------------------------------------------------\n",
    "#Calculating F1 Score  : 2 * (precision * recall) / (precision + recall)\n",
    "# f1_score(y_true, y_pred, labels=None, pos_label=1, average=’binary’, sample_weight=None)\n",
    "\n",
    "F1Score = f1_score(y_test, y_pred, average='micro') #it can be : binary,macro,weighted,samples\n",
    "print('F1 Score is : ', F1Score)"
   ]
  },
  {
   "cell_type": "code",
   "execution_count": null,
   "id": "27284e46",
   "metadata": {},
   "outputs": [],
   "source": []
  },
  {
   "cell_type": "code",
   "execution_count": null,
   "id": "be9311c6",
   "metadata": {},
   "outputs": [],
   "source": []
  }
 ],
 "metadata": {
  "kernelspec": {
   "display_name": "Python 3 (ipykernel)",
   "language": "python",
   "name": "python3"
  },
  "language_info": {
   "codemirror_mode": {
    "name": "ipython",
    "version": 3
   },
   "file_extension": ".py",
   "mimetype": "text/x-python",
   "name": "python",
   "nbconvert_exporter": "python",
   "pygments_lexer": "ipython3",
   "version": "3.9.13"
  }
 },
 "nbformat": 4,
 "nbformat_minor": 5
}
